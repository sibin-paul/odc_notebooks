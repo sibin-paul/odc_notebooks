{
 "cells": [
  {
   "cell_type": "markdown",
   "id": "dcaf73be",
   "metadata": {},
   "source": [
    "# Indexing using STAC\n",
    "This notebook explains on indexing datasets available at STAC API endpoints to be indexed to the ODC datacube setup."
   ]
  },
  {
   "cell_type": "markdown",
   "id": "17f94d1a",
   "metadata": {},
   "source": [
    "## Description\n",
    "The topics covered in this notebook include\n",
    "* [Prerequisites](#Prerequisites)\n",
    "* [What is STAC?](#STAC)\n",
    "* [Indexing the Product Definition](#Indexing-the-Product-Definition)\n",
    "* [Example](#Example)"
   ]
  },
  {
   "cell_type": "markdown",
   "id": "03c14aa2",
   "metadata": {},
   "source": [
    "**Note:** *The commands are meant to be run on a command line interface(like terminal in Linux). But in JupyterHub Notebook you can run the commands by placing a `!` before the command.*\n",
    "\n",
    "`! <command>`"
   ]
  },
  {
   "cell_type": "markdown",
   "id": "f4b8ea67",
   "metadata": {},
   "source": [
    "## Prerequisites\n",
    "Indexing from STAC requires a command line tool `stac-to-dc`. With the help of python package [odc_apps_dc_tools](https://github.com/opendatacube/odc-tools/tree/develop/apps/dc_tools).\n",
    "users can index the datsets to datacube.\n",
    "\n",
    "The python package `odc-apps-dc-tools` can be installed using command:\n",
    "\n",
    "`pip install odc-apps-dc-tools`\n",
    "\n",
    "***Note: This package has already been installed in the JupyterHub environment you are currently using***"
   ]
  },
  {
   "cell_type": "markdown",
   "id": "6fe1b5eb",
   "metadata": {},
   "source": [
    "## STAC\n",
    "[STAC](https://stacspec.org/) or **SpatioTemporal Asset Catalogs** specification provides a common language to describe a range of geospatial information, so it can more easily be indexed and discovered. A 'spatiotemporal asset' is any file that represents information about the earth captured in a certain space and time.\n",
    "\n",
    "Here are some STAC endpoints that make geospatial data available:\n",
    "   \n",
    "| Provider                                                                          |Endpoint        |\n",
    "| :-------------------------------------------------------------------------------- | :------------- |\n",
    "|[Element 84](https://www.element84.com/earth-search/)                              | https://earth-search.aws.element84.com/v0|\n",
    "|[Planetary Computers Data Catalog](https://planetarycomputer.microsoft.com/catalog)|https://planetarycomputer.microsoft.com/api/stac/v1/|"
   ]
  },
  {
   "cell_type": "markdown",
   "id": "9d2b3d3b",
   "metadata": {},
   "source": [
    "## Indexing the Product Definition\n",
    "Before indexing the datasets the corresponding product definition should be indexed. Given below is syntax to the `datacube` command.\n",
    "\n",
    "`datacube product add <product_definition_source>`"
   ]
  },
  {
   "cell_type": "code",
   "execution_count": null,
   "id": "ba40814b",
   "metadata": {},
   "outputs": [],
   "source": [
    "! datacube product add https://raw.githubusercontent.com/digitalearthafrica/config/master/products/esa_s2_l2a.odc-product.yaml"
   ]
  },
  {
   "cell_type": "markdown",
   "id": "7c4a08fa",
   "metadata": {},
   "source": [
    "##### The cell below runs the help command on the s3-to-dc app"
   ]
  },
  {
   "cell_type": "code",
   "execution_count": 1,
   "id": "9c8bd8f3",
   "metadata": {},
   "outputs": [
    {
     "name": "stdout",
     "output_type": "stream",
     "text": [
      "Usage: stac-to-dc [OPTIONS]\n",
      "\n",
      "  Iterate through STAC items from a STAC API and add them to datacube.\n",
      "\n",
      "Options:\n",
      "  --limit INTEGER        Stop indexing after n datasets have been indexed.\n",
      "  --update-if-exists     If the dataset or product already exists, update it\n",
      "                         instead of skipping it.\n",
      "\n",
      "  --allow-unsafe         Allow unsafe changes to a dataset. Take care!\n",
      "  --catalog-href TEXT    URL to the catalog to search\n",
      "  --collections TEXT     Comma separated list of collections to search\n",
      "  --bbox TEXT            Comma separated list of bounding box coords, lon-min,\n",
      "                         lat-min, lon-max, lat-max\n",
      "\n",
      "  --datetime TEXT        Dates to search, either one day or an inclusive\n",
      "                         range, e.g. 2020-01-01 or 2020-01-01/2020-01-02\n",
      "\n",
      "  --options TEXT         Other search terms, as a # separated list, i.e.,\n",
      "                         --options=cloud_cover=0,100#sky=green\n",
      "\n",
      "  --rewrite-assets TEXT  Rewrite asset hrefs, for example, to change from\n",
      "                         HTTPS to S3 URIs, --rewrite-\n",
      "                         assets=https://example.com/,s3://\n",
      "\n",
      "  --help                 Show this message and exit.\n"
     ]
    }
   ],
   "source": [
    "! stac-to-dc --help"
   ]
  },
  {
   "cell_type": "markdown",
   "id": "c1f01186",
   "metadata": {},
   "source": [
    "## Example\n",
    "\n",
    "Syntax to use `stac-to-dc` command:\n",
    "```\n",
    "stac-to-dc --bbox='longitude-min,latitude-min,longitude-max,latitude-max' \n",
    "           --catalog-href='<STAC API endpoint>'\n",
    "           --datetime='YYYY-MM-DD/yyyy-mm-dd'\n",
    "           --collections='collection_name'\n",
    "```\n",
    "\n",
    "* `--bbox` - specifies the geographical area that you want to index\n",
    "* `--catalog-href` - specifies the STAC endpoint\n",
    "* `--datetime` - Dates to search, either one day or an inclusive range, here `YYYY-MM-DD` comes earlier than `yyyy-mm-dd`\n",
    "* `--collections` - s an extension of the STAC Catalog with additional information such as the extents, license, keywords, providers, etc that describe STAC Items that fall within the Collection.\n",
    "\n",
    "Example:\n",
    "```\n",
    "stac-to-dc --bbox='25,20,35,30' \n",
    "           --catalog-href='https://earth-search.aws.element84.com/v0/'\n",
    "           --datetime='2021-06-01/2021-07-01'\n",
    "           --collections='sentinel-s2-l2a-cogs'\n",
    "```"
   ]
  },
  {
   "cell_type": "markdown",
   "id": "32016a3c",
   "metadata": {},
   "source": [
    "**Indexing the datasets using the `stac-to-dc` command available through the [odc_apps_dc_tools](https://github.com/opendatacube/odc-tools/tree/develop/apps/dc_tools)**"
   ]
  },
  {
   "cell_type": "code",
   "execution_count": null,
   "id": "212846a0",
   "metadata": {},
   "outputs": [],
   "source": [
    "! stac-to-dc --bbox='25,20,35,30' --catalog-href='https://earth-search.aws.element84.com/v0/' --datetime='2021-06-01/2021-07-01' --collections='sentinel-s2-l2a-cogs'"
   ]
  },
  {
   "cell_type": "markdown",
   "id": "2f44d650",
   "metadata": {},
   "source": [
    "## Recommended Next Steps\n",
    "Loading the datasets and plotting satellite images come after the process of indexing. Therefore we recommend you to go through the indexing notebooks to understand the different steps involved and different sources from where data could be indexed. Click on the links which will take you to the respective notebooks.\n",
    "\n",
    "1. [Introduction to ODC Indexing](01_Introduction_to_ODC_Indexing.ipynb)\n",
    "2. [Indexing Product Definition](02_Indexing_Product_Definition.ipynb)\n",
    "3. [Indexing from Local File System](03_Indexing_from_Local_File_System.ipynb)\n",
    "4. [Indexing from Amazon - AWS S3](04_Indexing_from_AWS_S3.ipynb)\n",
    "5. **Indexing using STAC(This Notebook)**"
   ]
  }
 ],
 "metadata": {
  "kernelspec": {
   "display_name": "Python 3 (ipykernel)",
   "language": "python",
   "name": "python3"
  },
  "language_info": {
   "codemirror_mode": {
    "name": "ipython",
    "version": 3
   },
   "file_extension": ".py",
   "mimetype": "text/x-python",
   "name": "python",
   "nbconvert_exporter": "python",
   "pygments_lexer": "ipython3",
   "version": "3.8.10"
  }
 },
 "nbformat": 4,
 "nbformat_minor": 5
}
