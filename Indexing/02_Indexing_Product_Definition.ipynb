{
 "cells": [
  {
   "cell_type": "markdown",
   "id": "b5016d63",
   "metadata": {},
   "source": [
    "# Indexing Product Definition\n",
    "This notebooks primary focus is to explain the product definition indexing process in ODC using the `datacube` command line tool. The process allows indexing a new product to the database allowing datasets sharing the same metadata structure as the Product to be indexed to the database in the future.\n",
    "\n",
    "## Description\n",
    "The topics covered include:\n",
    "* [Listing the Products that were previously indexed](#Listing-the-Products-in-the-Database)\n",
    "* [Indexing New Products](#Indexing-the-Product-Definition)\n",
    "* [Listing the Products after indexing](#)"
   ]
  },
  {
   "cell_type": "markdown",
   "id": "11d08fd6",
   "metadata": {},
   "source": [
    "**Note:** *The commands are meant to be run on a command line interface(like terminal in Linux). But in JupyterHub Notebook you can run the commands by placing a `!` before the command.*\n",
    "\n",
    "`! <command>`"
   ]
  },
  {
   "cell_type": "markdown",
   "id": "b3d50c6e",
   "metadata": {},
   "source": [
    "## Datacube Command Line Tool\n",
    "Before getting into ODC indexing and products, we have look into a command line tool `datacube` that comes with the ODC datacube setup.\n",
    "##### The below cell runs the `datacube --help` command to display the different commands available with the tool."
   ]
  },
  {
   "cell_type": "code",
   "execution_count": 1,
   "id": "41e1b4cc",
   "metadata": {},
   "outputs": [
    {
     "name": "stdout",
     "output_type": "stream",
     "text": [
      "Usage: datacube [OPTIONS] COMMAND [ARGS]...\n",
      "\n",
      "  Data Cube command-line interface\n",
      "\n",
      "Options:\n",
      "  --version\n",
      "  -v, --verbose                   Use multiple times for more verbosity\n",
      "  --log-file TEXT                 Specify log file\n",
      "  -E, --env TEXT\n",
      "  -C, --config, --config_file TEXT\n",
      "  --log-queries                   Print database queries.\n",
      "  -h, --help                      Show this message and exit.\n",
      "\n",
      "Commands:\n",
      "  dataset   Dataset management commands\n",
      "  ingest    Ingest datasets\n",
      "  metadata  Metadata type commands\n",
      "  product   Product commands\n",
      "  system    System commands\n",
      "  user      User management commands\n"
     ]
    }
   ],
   "source": [
    "! datacube --help"
   ]
  },
  {
   "cell_type": "markdown",
   "id": "c7f1ebc4",
   "metadata": {},
   "source": [
    "The main datacube commands related to indexing are `datacube product` and `datacube dataset` which are used to index product definition and dataset document to the ODC database.\n",
    "\n",
    "More on datacube command line tool [here](https://datacube-core.readthedocs.io/en/datacube-1.4.1/ops/tools.html#)."
   ]
  },
  {
   "cell_type": "markdown",
   "id": "1c62c73f",
   "metadata": {},
   "source": [
    "## Listing the Products in the Database\n",
    "The ODC database we are using has some product definitions already indexed for our training notebooks to work. You can use the `datacube product list` command to list the same."
   ]
  },
  {
   "cell_type": "code",
   "execution_count": 2,
   "id": "2c0ea6d7",
   "metadata": {
    "scrolled": true
   },
   "outputs": [
    {
     "name": "stdout",
     "output_type": "stream",
     "text": [
      "\u001b[32mio_lulc\u001b[0m  Impact Observatory (ESRI) Landcover Classification\n",
      "\u001b[32mls8_st \u001b[0m  USGS Landsat 8 Collection 2 Level-2 Surface Temperature\n",
      "\u001b[32mnasadem\u001b[0m  NASADEM from Microsoft's Planetary Computer\n",
      "\u001b[32ms2_l2a \u001b[0m  Sentinel-2a and Sentinel-2b imagery, processed to Level 2A (Surface Reflectance) and converted to Cloud Optimized GeoTIFFs\n"
     ]
    }
   ],
   "source": [
    "! datacube product list"
   ]
  },
  {
   "cell_type": "markdown",
   "id": "51d968f1",
   "metadata": {},
   "source": [
    "The above cell returns the list of product names indexed to the database along with short descriptions of the same"
   ]
  },
  {
   "cell_type": "markdown",
   "id": "0c9cd8fb",
   "metadata": {},
   "source": [
    "## Indexing the Product Definition\n",
    "The product definitions are generally available as yaml files and these can be indexed to ODC database using the `datacube` commands. To add a product definition simply run the command:\n",
    "\n",
    "`datacube product add <product_definition_source>`\n",
    "\n",
    "This `<product_definition_source>` can be a path(relative or otherwise) to a file available locally, or to a URL. For example, consider either of the two commands below:\n",
    "\n",
    "`datacube product add path/to/product_def.yaml`\n",
    "\n",
    "OR\n",
    "\n",
    "`datacube product add https://raw.githubusercontent.com/digitalearthafrica/config/master/products/ls8_sr.odc-product.yaml`\n",
    "\n",
    "The above commands are used to index a product definition of **Landsat 8 Collection 2 Level-2 Surface Reflectance** available [here](https://github.com/digitalearthafrica/config/blob/master/products/ls8_sr.odc-product.yaml), to the ODC database.\n",
    "\n",
    "Run the following cell to index product definition of **Landsat 8 Collection 2 Level-2 Surface Temperature** that is available [here](https://github.com/digitalearthafrica/config/blob/master/products/ls8_st.odc-product.yaml)"
   ]
  },
  {
   "cell_type": "markdown",
   "id": "cb4e86a1",
   "metadata": {},
   "source": [
    "##### The following cell runs a `datacube product add` command to add a [product](https://raw.githubusercontent.com/digitalearthafrica/config/master/products/ls8_st.odc-product.yaml) to the ODC index database\n",
    "You can try to index other product definitions by changing the `<url>`\n",
    "\n",
    "`datacube product add <url>`\n",
    "\n",
    "You can use any of the URLs mentioned [here](https://github.com/digitalearthafrica/config/blob/master/prod/products_prod.csv#:~:text=product-,definition,-alos_palsar_mosaic)"
   ]
  },
  {
   "cell_type": "code",
   "execution_count": 3,
   "id": "2e4d3281",
   "metadata": {},
   "outputs": [
    {
     "name": "stdout",
     "output_type": "stream",
     "text": [
      "Adding \"ls8_st\" (this might take a while) DONE\n"
     ]
    }
   ],
   "source": [
    "! datacube product add https://raw.githubusercontent.com/digitalearthafrica/config/master/products/ls8_st.odc-product.yaml"
   ]
  },
  {
   "cell_type": "markdown",
   "id": "f8e95d24",
   "metadata": {},
   "source": [
    "After running the above cell successfully a new product of the name `ls8_st` was added to the ODC index database. You can check this by running the `datacube product list` command to list the product defintions that has been added to the ODC database."
   ]
  },
  {
   "cell_type": "markdown",
   "id": "0aa61442",
   "metadata": {},
   "source": [
    "## Listing the Products in the Database\n",
    "The ODC database we are using has some product definitions already indexed for our training notebooks to work. You can use the `datacube product list` command to list the same."
   ]
  },
  {
   "cell_type": "code",
   "execution_count": 4,
   "id": "5664b4c4",
   "metadata": {
    "scrolled": true
   },
   "outputs": [
    {
     "name": "stdout",
     "output_type": "stream",
     "text": [
      "\u001b[32mio_lulc\u001b[0m  Impact Observatory (ESRI) Landcover Classification\n",
      "\u001b[32mls8_st \u001b[0m  USGS Landsat 8 Collection 2 Level-2 Surface Temperature\n",
      "\u001b[32mnasadem\u001b[0m  NASADEM from Microsoft's Planetary Computer\n",
      "\u001b[32ms2_l2a \u001b[0m  Sentinel-2a and Sentinel-2b imagery, processed to Level 2A (Surface Reflectance) and converted to Cloud Optimized GeoTIFFs\n"
     ]
    }
   ],
   "source": [
    "! datacube product list"
   ]
  },
  {
   "cell_type": "markdown",
   "id": "6d4ab7e9",
   "metadata": {},
   "source": [
    "After indexing a new product of the name `ls8_st` is added to the ODC index database."
   ]
  },
  {
   "cell_type": "markdown",
   "id": "c1734e13",
   "metadata": {},
   "source": [
    "## Recommended Next Steps\n",
    "Loading the datasets and plotting satellite images come after the process of indexing. Therefore we recommend you to go through the indexing notebooks to understand the different steps involved and different sources from where data could be indexed. Click on the links which will take you to the respective notebooks.\n",
    "\n",
    "1. [Introduction to ODC Indexing](01_Introduction_to_ODC_Indexing.ipynb)\n",
    "2. **Indexing Product Definition(This notebook)**\n",
    "3. [Indexing from Local File System](03_Indexing_from_Local_File_System.ipynb)\n",
    "4. [Indexing from Amazon - AWS S3](04_Indexing_from_AWS_S3.ipynb)\n",
    "5. [Indexing using STAC](05_Indexing_using_STAC.ipynb)"
   ]
  }
 ],
 "metadata": {
  "kernelspec": {
   "display_name": "Python 3",
   "language": "python",
   "name": "python3"
  },
  "language_info": {
   "codemirror_mode": {
    "name": "ipython",
    "version": 3
   },
   "file_extension": ".py",
   "mimetype": "text/x-python",
   "name": "python",
   "nbconvert_exporter": "python",
   "pygments_lexer": "ipython3",
   "version": "3.6.13"
  }
 },
 "nbformat": 4,
 "nbformat_minor": 5
}
