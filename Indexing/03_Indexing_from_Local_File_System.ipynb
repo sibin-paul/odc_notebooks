{
 "cells": [
  {
   "cell_type": "markdown",
   "id": "64656db8",
   "metadata": {},
   "source": [
    "# Indexing datasets from Local File System\n",
    "This notebook focuses on indexing datasets that are available locally on your system using the `datacube` commands. This command line utility can be used to index new product definitions and dataset documents"
   ]
  },
  {
   "cell_type": "markdown",
   "id": "2477ca7d",
   "metadata": {},
   "source": [
    "## Description\n",
    "The topics covered here are:\n",
    "* [Indexing the Product Definition](#Indexing-the-Product-Definition)\n",
    "* [Generating Dataset Document](#Generating-Dataset-Document)\n",
    "* [Indexing the Dataset](#Indexing-Dataset-document)\n",
    "* [Recommended Next Steps](#Recommended-Next-Steps)"
   ]
  },
  {
   "cell_type": "markdown",
   "id": "d53c3f32",
   "metadata": {},
   "source": [
    "**Note:** *The commands are meant to be run on a command line interface(like terminal in Linux). But in JupyterHub Notebook you can run the commands by placing a `!` before the command.*\n",
    "\n",
    "`! <command>`"
   ]
  },
  {
   "cell_type": "markdown",
   "id": "4ac785e2",
   "metadata": {},
   "source": [
    "## Indexing the Product Definition\n",
    "The product definitions are generally available as yaml files and these can be indexed to ODC database using the `datacube` commands. To add a product definition simply run the command:\n",
    "\n",
    "`datacube product add <product_definition_source>`\n",
    "\n",
    "This `<product_definition_source>` can be a path(relative or otherwise) to a file available locally, or to a URL. For example, consider either of the two commands below:\n",
    "\n",
    "`datacube product add path/to/product_def.yaml`\n",
    "\n",
    "OR\n",
    "\n",
    "`datacube product add https://raw.githubusercontent.com/digitalearthafrica/config/master/products/ls8_sr.odc-product.yaml`"
   ]
  },
  {
   "cell_type": "code",
   "execution_count": null,
   "id": "ce623a3e",
   "metadata": {},
   "outputs": [],
   "source": [
    "! datacube product add https://raw.githubusercontent.com/digitalearthafrica/config/master/products/ls8_sr.odc-product.yaml"
   ]
  },
  {
   "cell_type": "markdown",
   "id": "68c35bd1",
   "metadata": {},
   "source": [
    "## Generating Dataset Document\n",
    "To index datasets from local file system first we have to generate the dataset document yaml file from the dataset that was downloaded. Some of the scripts that are used to generate the dataset document yaml files are available [here](https://github.com/opendatacube/datacube-dataset-config/tree/main/old-prep-scripts)"
   ]
  },
  {
   "cell_type": "markdown",
   "id": "406a0123",
   "metadata": {},
   "source": [
    "##### For example [ls_usgs_prepare.py](https://github.com/opendatacube/datacube-dataset-config/blob/main/old-prep-scripts/ls_usgs_prepare.py) can be used to Prepare USGS Landsat Collection 1 data for ingestion into the Data Cube.\n",
    "\n",
    "`python3 ls_usgs_prepare.py --output <dataset_doc_name>.yaml path/to/dataset/directory/`"
   ]
  },
  {
   "cell_type": "markdown",
   "id": "80d50918",
   "metadata": {},
   "source": [
    "## Indexing Dataset document\n",
    "You can use the `datacube dataset add` command to index the dataset document that created in the above step.\n",
    "\n",
    "Example:\n",
    "`datacube dataset add path/to/dataset_doc.yaml`"
   ]
  },
  {
   "cell_type": "markdown",
   "id": "aa962fe1",
   "metadata": {},
   "source": [
    "## Recommended Next Steps\n",
    "Loading the datasets and plotting satellite images come after the process of indexing. Therefore we recommend you to go through the indexing notebooks to understand the different steps involved and different sources from where data could be indexed. Click on the links which will take you to the respective notebooks.\n",
    "\n",
    "1. [Introduction to ODC Indexing](01_Introduction_to_ODC_Indexing.ipynb)\n",
    "2. [Indexing Product Definition](02_Indexing_Product_Definition.ipynb)\n",
    "3. **Indexing from Local File System(This Notebook)**\n",
    "4. [Indexing from Amazon - AWS S3](04_Indexing_from_AWS_S3.ipynb)\n",
    "5. [Indexing using STAC](05_Indexing_using_STAC.ipynb)"
   ]
  }
 ],
 "metadata": {
  "kernelspec": {
   "display_name": "Python 3",
   "language": "python",
   "name": "python3"
  },
  "language_info": {
   "codemirror_mode": {
    "name": "ipython",
    "version": 3
   },
   "file_extension": ".py",
   "mimetype": "text/x-python",
   "name": "python",
   "nbconvert_exporter": "python",
   "pygments_lexer": "ipython3",
   "version": "3.8.10"
  }
 },
 "nbformat": 4,
 "nbformat_minor": 5
}
