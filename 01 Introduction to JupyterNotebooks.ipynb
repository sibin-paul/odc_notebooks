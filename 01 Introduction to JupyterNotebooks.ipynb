{
 "cells": [
  {
   "cell_type": "markdown",
   "metadata": {
    "tags": []
   },
   "source": [
    "# Introduction to Jupyter Notebooks <img align=\"right\" src=\"resources/ama_logo.jpg\" width=250 height=250>\n",
    "This section will introduce you to the basics of using Python code in Jupyter Notebooks via JupyterLab.\n",
    "\n",
    "This notebook is derived from a [Digital Earth Africa](https://www.digitalearthafrica.org/) notebook: [here](https://github.com/digitalearthafrica/deafrica-sandbox-notebooks/blob/master/Beginners_guide/01_Jupyter_notebooks.ipynb)"
   ]
  },
  {
   "cell_type": "markdown",
   "metadata": {
    "tags": []
   },
   "source": [
    "## Background\n",
    "Access to implementations of the [Open Data Cube](https://www.opendatacube.org/) such as [Digital Earth Africa](https://www.digitalearthafrica.org/) and [Digital Earth Australia](https://www.ga.gov.au/dea) is achieved through the use of Python code and [Jupyter Notebooks](https://jupyterlab.readthedocs.io/en/stable/user/notebook.html).\n",
    "The Jupyter Notebook (also termed notebook from here onwards) is an interactive web application that allows for the viewing, creation and documentation of live code.\n",
    "Notebook applications include data transformation, visualisation, modelling and machine learning.\n",
    "The default web interface to access notebooks is [JupyterLab](https://jupyterlab.readthedocs.io/en/stable/), which we will cover in the next section."
   ]
  },
  {
   "cell_type": "markdown",
   "metadata": {},
   "source": [
    "## Description\n",
    "\n",
    "Topics covered include:\n",
    "\n",
    "* [How to run (execute) a Jupyter Notebook cell](#Getting-started)\n",
    "* [The different types of Jupyter Notebook cells](#Jupyter-notebook-cell-types)\n",
    "* [Stopping a process or restarting a Jupyter Notebook](Stopping-a-process-or-restarting-a-Jupyter-Notebook)\n",
    "* [Saving and exporting your work](#Saving-and-exporting-your-work)\n",
    "* [Starting a new Jupyter Notebook](#Starting-a-new-notebook)\n",
    "\n",
    "***"
   ]
  },
  {
   "cell_type": "markdown",
   "metadata": {},
   "source": [
    "## Getting started"
   ]
  },
  {
   "cell_type": "markdown",
   "metadata": {},
   "source": [
    "### Running (executing) a cell\n",
    "Jupyter Notebooks allow code to be separated into sections that can be executed independent of one another.\n",
    "These sections are called \"cells\".\n",
    "\n",
    "Python code is written into individual cells that can be executed by placing the cursor in the cell and typing `Shift-Enter` on the keyboard or selecting the &#9658; \"run\" button in the ribbon at the top of the notebook. <img src=\"resources/day1/01_notebooks_intro/jupyterlabs_run_cell_button.png\"> <br>\n",
    "These options will run a single cell at a time.\n",
    "\n",
    "If you wish to auto-run all cells in a notebook, select the &#9658;&#9658; \"restart and run all cells\" button in the ribbon. <img src=\"resources/day1/01_notebooks_intro/jupyterlabs_run_all_cells_button.png\">\n",
    "\n",
    "When you run a cell, you are executing that cell's content.\n",
    "Any output produced from running the cell will appear directly below it.\n",
    "\n",
    "Run the cell below:"
   ]
  },
  {
   "cell_type": "code",
   "execution_count": 1,
   "metadata": {},
   "outputs": [
    {
     "name": "stdout",
     "output_type": "stream",
     "text": [
      "I ran a cell!\n"
     ]
    }
   ],
   "source": [
    "print (\"I ran a cell!\")"
   ]
  },
  {
   "cell_type": "markdown",
   "metadata": {},
   "source": [
    "### Cell status"
   ]
  },
  {
   "cell_type": "markdown",
   "metadata": {},
   "source": [
    "The `[ ]:` symbol to the left of each Code cell describes the state of the cell:\n",
    "\n",
    "* `[ ]:` means that the cell has not been run yet.\n",
    "* `[*]:` means that the cell is currently running.\n",
    "* `[1]:` means that the cell has finished running and was the first cell run.\n",
    "\n",
    "The number indicates the order that the cells were run in.\n",
    "\n",
    "You can also tell whether a cell is currently executing in a Jupyter notebook by inspecting the small circle in the right corner of the ribbon. <img src=\"resources/day1/01_notebooks_intro/jupyterlabs_activity_circle.png\"> <br>\n",
    "The circle will turn grey (\"Kernel busy\") when the cell is running <img src=\"resources/day1/01_notebooks_intro/jupyterlabs_activity_circle_active.png\" height=20 width=20>, and return to empty (\"Kernel idle\") when the process is complete <img src=\"resources/day1/01_notebooks_intro/jupyterlabs_activity_circle_inactive.png\" height=20 width=20>."
   ]
  },
  {
   "cell_type": "markdown",
   "metadata": {},
   "source": [
    "## Jupyter notebook cell types\n",
    "Cells are identified as either Code, Markdown, or Raw. \n",
    "This designation can be changed using the ribbon.\n",
    "<img src=\"resources/day1/01_notebooks_intro/jupyterlabs_cell_type.png\">"
   ]
  },
  {
   "cell_type": "markdown",
   "metadata": {},
   "source": [
    "### Code cells\n",
    "\n",
    "All code operations are performed in Code cells. \n",
    "Code cells can be used to edit and write new code, and perform tasks like loading data, plotting data and running analyses. \n",
    "\n",
    "Click on the cell below. \n",
    "Note that the ribbon describes it as a Code cell."
   ]
  },
  {
   "cell_type": "code",
   "execution_count": 2,
   "metadata": {},
   "outputs": [
    {
     "name": "stdout",
     "output_type": "stream",
     "text": [
      "This is a code cell\n"
     ]
    }
   ],
   "source": [
    "print(\"This is a code cell\")"
   ]
  },
  {
   "cell_type": "markdown",
   "metadata": {},
   "source": [
    "### Markdown cells\n",
    "Place the cursor in this cell by double clicking.\n",
    "\n",
    "The cell format has changed to allow for editing. \n",
    "Note that the ribbon describes this as a Markdown cell.\n",
    "\n",
    "Run this cell to return the formatted version.\n",
    "\n",
    "Markdown cells provide the narrative to a notebook.\n",
    "They are used for text and are useful to describe the code operations in the following cells. \n",
    "To see some of the formatting options for text in a Markdown cell, navigate to the \"Help\" tab of the menu bar at the top of JupyterLab and select \"Markdown Reference\".\n",
    "<img src=\"resources/day1/01_notebooks_intro/jupyterlabs_menu_bar_help.png\">\n",
    "<img style=\"float: right;\" src=\"resources/day1/01_notebooks_intro/jupyterlabs_menu_bar_help_markdown_reference.png\" width=200>\n",
    "\n",
    "<div style=\"clear: right\">\n",
    "Here you will see a wide range of text formatting options including headings, dot points, italics, hyperlinking and creating tables.\n",
    "</div>\n",
    "<img style=\"float: right;\" src=\"resources/day1/01_notebooks_intro/jupyterlab_markdown_reference.png\" width=300>"
   ]
  },
  {
   "cell_type": "markdown",
   "metadata": {},
   "source": [
    "### Raw cells\n",
    "Information in Raw cells is stored in the notebook metadata and can be used to render different code formats into HTML or $\\LaTeX$.\n",
    "There are a range of available Raw cell formats that differ depending on how they are to be rendered.\n",
    "For the purposes of this beginner's guide, raw cells are rarely used by the authors and not required for most notebook users."
   ]
  },
  {
   "cell_type": "markdown",
   "metadata": {
    "tags": []
   },
   "source": [
    "## Stopping a process or restarting a Jupyter Notebook\n",
    "Sometimes it can be useful to stop a cell execution before it finishes (e.g. if a process is taking too long to complete, or if you realise you need to modify some code before running the cell). \n",
    "To interrupt a cell execution, you can click the &#9632; \"stop\" button in the ribbon (shortcut: press the I key twice - `I, I`). \n",
    "<img src=\"resources/day1/01_notebooks_intro/jupyterlabs_stop_button.png\">\n",
    "<!-- <center><img src=\"../resources/day1/01_notebooks_intro/jupyterlabs_menu_bar_kernel_interrupt.png\" width=300></center> -->\n",
    "\n",
    "To test this, run the following code cell.\n",
    "This will run a piece of code that will take 20 seconds to complete.\n",
    "To interrupt this code, press the &#9632; \"stop\" button. \n",
    "The notebook should stop executing the cell.\n",
    "\n"
   ]
  },
  {
   "cell_type": "code",
   "execution_count": 3,
   "metadata": {},
   "outputs": [],
   "source": [
    "import time\n",
    "time.sleep(20)"
   ]
  },
  {
   "cell_type": "markdown",
   "metadata": {},
   "source": [
    "If the approach above does not work (e.g. if the notebook has frozen or refuses to respond), you can also try restarting the entire notebook.\n",
    "To do this, click the &#x21bb; \"Restart the kernel\" button in the ribbon (shortcut: press the 0 key twice - `0, 0`).\n",
    "<img src=\"resources/day1/01_notebooks_intro/jupyterlabs_restart_button.png\">\n",
    "<!-- <center><img src=\"../resources/day1/01_notebooks_intro/jupyterlabs_menu_bar_kernel_restart.png\" width=300></center> -->\n",
    "\n",
    "Restarting a notebook can also be useful for testing whether your code will work correctly the first time a new user tries to run the notebook.\n",
    "To restart and then run every cell in a notebook, click the &#9658;&#9658; \"restart and run all cells\" button in the ribbon, as was mentioned before.\n",
    "<img src=\"resources/day1/01_notebooks_intro/jupyterlabs_run_all_cells_button.png\">"
   ]
  },
  {
   "cell_type": "markdown",
   "metadata": {
    "tags": []
   },
   "source": [
    "## Saving and exporting your work\n",
    "\n",
    "Modifications to Jupyter Notebooks are automatically saved every few minutes.\n",
    "To manually save your notebook, click the &#128190; \"save\" icon on the left of the ribbon.\n",
    "<img src=\"resources/day1/01_notebooks_intro/jupyterlabs_save_button.png\">\n",
    "\n",
    "### Exporting Jupyter Notebooks to Python scripts\n",
    "The standard file extension for a Jupyter Notebook is `.ipynb`.\n",
    "\n",
    "There are a range of export options that allow you to save your work for access outside of the Jupyter environment. \n",
    "Python code for example can easily be saved as `.py` Python scripts by navigating to the \"File\" tab of the menu bar in JupyterLab and selecting \"Export Notebook As\" followed by \"Executable Script\".\n",
    "<div><img style=\"float: left;\" src=\"resources/day1/01_notebooks_intro/jupyterlabs_menu_bar_file_export_notebook.png\" width=200>\n",
    "<img style=\"position: absolute; bottom: 0\" src=\"resources/day1/01_notebooks_intro/jupyterlabs_menu_bar_file_export_notebook_script.png\" width=100></div>"
   ]
  },
  {
   "cell_type": "markdown",
   "metadata": {
    "tags": []
   },
   "source": [
    "## Starting a new notebook\n",
    "To create a new notebook of your own, first use JupyterLab's file browser to navigate to the directory you would like the notebook to be created in (if the file browser is not visible, re-open it by clicking on the &#128193; \"File browser\" icon at the top-left of the screen). Once you have navigated to your desired location, press the &#10010; \"New Launcher\" button above the file browser.\n",
    "<div>\n",
    "<img src=\"resources/day1/01_notebooks_intro/jupyterlabs_file_explorer_tab.png\" style=\"height:300px; float: left\">\n",
    "<img src=\"resources/day1/01_notebooks_intro/jupyterlabs_new_launcher_button_2.png\" style=\"width:200px\">\n",
    "</div>\n",
    "\n",
    "<div style=\"clear:both\">\n",
    "This will bring up JupyterLab's \"Launcher\" page which allows you to launch a range of new files or utilities. \n",
    "Below the heading \"Notebook\", click the large \"Python 3\" button.\n",
    "This will create a new notebook entitled \"Untitled.ipynb\" in your directory.\n",
    "</div>\n",
    "\n",
    "<center><img src=\"resources/day1/01_notebooks_intro/jupyterlabs_launcher_notebook.png\" style=\"width:300px\"></center>\n",
    "\n",
    "<div style=\"clear:both\">\n",
    "To rename this notebook to something more useful, right-click on it in the file browser and select \"Rename\".\n",
    "</div>\n",
    "<center><img src=\"resources/day1/01_notebooks_intro/jupyterlabs_notebook_rename.png\" style=\"width:300px\"></center>\n"
   ]
  },
  {
   "cell_type": "markdown",
   "metadata": {},
   "source": [
    "## Recommended next steps\n",
    "\n",
    "For more advanced information about working with Jupyter Notebooks or JupyterLab, you can explore the [JupyterLab documentation page](https://jupyterlab.readthedocs.io/en/stable/user/notebook.html)."
   ]
  }
 ],
 "metadata": {
  "kernelspec": {
   "display_name": "Python 3 (ipykernel)",
   "language": "python",
   "name": "python3"
  },
  "language_info": {
   "codemirror_mode": {
    "name": "ipython",
    "version": 3
   },
   "file_extension": ".py",
   "mimetype": "text/x-python",
   "name": "python",
   "nbconvert_exporter": "python",
   "pygments_lexer": "ipython3",
   "version": "3.8.10"
  },
  "widgets": {
   "application/vnd.jupyter.widget-state+json": {
    "state": {},
    "version_major": 2,
    "version_minor": 0
   }
  }
 },
 "nbformat": 4,
 "nbformat_minor": 4
}
