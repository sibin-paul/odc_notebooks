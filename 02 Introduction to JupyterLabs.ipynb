{
 "cells": [
  {
   "cell_type": "markdown",
   "metadata": {},
   "source": [
    "# Navigating JupyterLabs <img align=\"right\" src=\"resources/ama_logo.jpg\" width=250 height=250>\n",
    "\n",
    "This section will teach you about the main elements of the JupyterLabs interface.\n",
    "\n",
    "This notebook is derived from a [Digital Earth Africa](https://www.digitalearthafrica.org/) notebook: [here](https://github.com/digitalearthafrica/deafrica-training-workshop/blob/master/docs/session_1/03_navigate_the_sandbox.ipynb)"
   ]
  },
  {
   "cell_type": "markdown",
   "metadata": {},
   "source": [
    "## Overview\n",
    "\n",
    "The Digital Earth Africa Sandbox uses a JupyterLab interface. JupyterLab is a web-based interactive coding environment. It has a user-friendly interface to make file navigation and workflows more intuitive. Within the Sandbox, we create Jupyter Notebooks to contain and execute code. This notebook coversthe follwoing:\n",
    "* [The JupyterLab interface](#The-JupyterLab-interface)\n",
    "* [How to open a Jupyter Notebook](#Open-a-Jupyter-Notebook)\n",
    "* [How to close a Jupyter Notebook](#Close-a-Jupyter-Notebook)"
   ]
  },
  {
   "cell_type": "markdown",
   "metadata": {},
   "source": [
    "## The JupyterLab interface\n",
    "\n",
    "When the Sandbox starts up, you will be presented with three main sections, as numbered in the diagram below: \n",
    "<img align=\"middle\" src=\"resources/day1/02_jupyterlabs_intro/jupyterlabs_interface_sections.png\" alt=\"The DE Africa Sandbox Jupyterlab default home screen.\" width=\"500\">\n",
    "\n",
    "1. **Main work area:** Enables you to arrange documents and other windows (such as terminals or code consoles) into panels of tabs that can be resized or subdivided. Open files will be displayed in this area. Most of your work will be done here.\n",
    "\n",
    "2. **Left sidebar:** Contains a file browser, the list of running kernels and terminals, the command palette, the notebook cell tools inspector, and the tabs list. By default, the file browser is selected; this will be the most useful toolbar for new users.\n",
    "\n",
    "3. **Horizontal menu bar:** Exposes actions available in JupyterLab, including actions related to saving, editing, viewing and running notebooks."
   ]
  },
  {
   "cell_type": "markdown",
   "metadata": {
    "jp-MarkdownHeadingCollapsed": true,
    "tags": []
   },
   "source": [
    "## Open a Jupyter Notebook\n",
    "\n",
    "The Sandbox comes with many example notebooks that you can learn from and use. Follow the instructions in this section to learn how to open a notebook.\n",
    "\n",
    "1. To navigate back to the home folder, click the folder icon at the start of the folder path. The folder path is near the top of the left sidebar. <img src=\"resources/day1/02_jupyterlabs_intro/jupyterlabs_navigate_to_home.png\" alt=\"Navigating to the home folder.\" width=\"200\">\n",
    "\n",
    "2. In JupyterLab, double-clicking in the left sidebar file browser opens folders and files. Double-click the **notebooks** folder in the left sidebar to open the folder and then double-click the **day1** folder view its contents. This is shown in the figure below.\n",
    "\n",
    "<div>\n",
    "<img  src=\"resources/day1/02_jupyterlabs_intro/jupyterlabs_navigate_to_notebooks_dir.png\" alt=\"Opening the notebooks folder.\" width=\"200\">\n",
    "<img src=\"resources/day1/02_jupyterlabs_intro/jupyterlabs_navigate_to_day1_dir.png\" alt=\"Opening the day1 folder.\" width=\"200\">\n",
    "</div>\n",
    "    \n",
    "3. Jupyter notebooks can be identified by the file extension `.ipynb` and the icon <img src=\"resources/day1/02_jupyterlabs_intro/jupyterlabs_notebook_icon.png\" width=12>. Choose a notebook (for example, `01_notebooks_intro.ipynb`) and double-click it to open it in the main work area.\n",
    "\n",
    "For more information, refer to this section of the JupyterLab documentation on [Working with Files](https://jupyterlab.readthedocs.io/en/stable/user/files.html)."
   ]
  },
  {
   "cell_type": "markdown",
   "metadata": {},
   "source": [
    "## Close a Jupyter Notebook\n",
    "\n",
    "Closing a notebook browser tab will not shut down its \"computational engine\" (called the kernel). It is good practice to shut down the kernel of any notebooks you aren't using, as it will free up memory in your Sandbox session. Follow the instructions below to completely shut down the notebook you opened in the previous section.\n",
    "\n",
    "1. With the notebook open, click on the menu option **File -> Close and Shutdown Notebook**.\n",
    "\n",
    "<img align=\"middle\" src=\"resources/day1/02_jupyterlabs_intro/jupyterlabs_close_and_shutdown.png\" alt=\"Close and Shutdown Notebook option.\" width=\"200\">\n",
    "\n",
    "2. When asked whether you want to shut down the notebook, click **OK**."
   ]
  },
  {
   "cell_type": "markdown",
   "metadata": {},
   "source": [
    "## Conclusion\n",
    "\n",
    "You can now open and close existing Jupyter notebook files. For more information about the JupyterLabs interface, see [the documentation](https://jupyterlab.readthedocs.io/en/stable/user/interface.html)."
   ]
  }
 ],
 "metadata": {
  "kernelspec": {
   "display_name": "Python 3 (ipykernel)",
   "language": "python",
   "name": "python3"
  },
  "language_info": {
   "codemirror_mode": {
    "name": "ipython",
    "version": 3
   },
   "file_extension": ".py",
   "mimetype": "text/x-python",
   "name": "python",
   "nbconvert_exporter": "python",
   "pygments_lexer": "ipython3",
   "version": "3.8.10"
  }
 },
 "nbformat": 4,
 "nbformat_minor": 4
}
