{
 "cells": [
  {
   "cell_type": "markdown",
   "metadata": {},
   "source": [
    "# Python Introduction <img align=\"right\" src=\"resources/ama_logo.jpg\" width=250 height=250>\n",
    "\n",
    "This section will discuss the programming language used in Open Data Cube (ODC) code - Python."
   ]
  },
  {
   "cell_type": "markdown",
   "metadata": {
    "tags": []
   },
   "source": [
    "## Background\n",
    "Before we use the ODC in code, we first need to understand the programming language that the ODC runs in.\n",
    "\n",
    "For an more detailed Python programming tutorial, see [this tutorial](https://www.w3schools.com/python/python_intro.asp)."
   ]
  },
  {
   "cell_type": "markdown",
   "metadata": {
    "tags": []
   },
   "source": [
    "## Description\n",
    "\n",
    "Python topics covered include:\n",
    "\n",
    "* [Formatting](#Formatting)\n",
    "* [Syntax](#Syntax)\n",
    "* [Variables](#Variables)\n",
    "* [Data Types](#Data-Types)\n",
    "* [Operators](#Operators)\n",
    "* [Control Flow](#Control-Flow)\n",
    "* [Commonly Used Functions](#Commonly-Used-Functions)\n",
    "* [Importing Packages](#Importing-Packages)\n",
    "***"
   ]
  },
  {
   "cell_type": "markdown",
   "metadata": {},
   "source": [
    "## Formatting"
   ]
  },
  {
   "cell_type": "code",
   "execution_count": 1,
   "metadata": {},
   "outputs": [
    {
     "data": {
      "text/html": [
       "<style>\n",
       "table {align:left; display:block}\n",
       "</style>\n",
       "Markdown tables now align left.\n"
      ],
      "text/plain": [
       "<IPython.core.display.HTML object>"
      ]
     },
     "metadata": {},
     "output_type": "display_data"
    }
   ],
   "source": [
    "%%html\n",
    "<style>\n",
    "table {align:left; display:block}\n",
    "</style>\n",
    "Markdown tables now align left."
   ]
  },
  {
   "cell_type": "markdown",
   "metadata": {
    "tags": []
   },
   "source": [
    "## Syntax\n",
    "\n",
    "### Indentation\n",
    "Indentation refers to the spaces at the beginning of a code line.\n",
    "\n",
    "Where in other programming languages the indentation in code is for readability only, the indentation in Python is very important.\n",
    "\n",
    "Python uses indentation to indicate a block of code.\n",
    "\n",
    "The following **`if`** block will always run. We will discuss control flow constructs like **`if`** later in this section. Some other things that can constitute code blocks are function and class definitions."
   ]
  },
  {
   "cell_type": "code",
   "execution_count": 2,
   "metadata": {},
   "outputs": [
    {
     "name": "stdout",
     "output_type": "stream",
     "text": [
      "Five is greater than two!\n"
     ]
    }
   ],
   "source": [
    "if 5 > 2:\n",
    "  print(\"Five is greater than two!\")"
   ]
  },
  {
   "cell_type": "markdown",
   "metadata": {},
   "source": [
    "### Comments\n",
    "\n",
    "Code comments can be used to explain code or avoid running some code.\n",
    "\n",
    "Single-line comments begin with the **`#`** character.\n",
    "\n",
    "Multiline comments begin and end with **`'''`**."
   ]
  },
  {
   "cell_type": "code",
   "execution_count": 3,
   "metadata": {},
   "outputs": [
    {
     "data": {
      "text/plain": [
       "'\\nThis is a multiline comment.\\n'"
      ]
     },
     "execution_count": 3,
     "metadata": {},
     "output_type": "execute_result"
    }
   ],
   "source": [
    "# This is a comment.\n",
    "'''\n",
    "This is a multiline comment.\n",
    "'''"
   ]
  },
  {
   "cell_type": "markdown",
   "metadata": {},
   "source": [
    "Note that multiline comments are actually strings, so in the cell above, the multiline string prints to the cell output."
   ]
  },
  {
   "cell_type": "markdown",
   "metadata": {},
   "source": [
    "## Variables\n",
    "\n",
    "A variable is a name that references an object. An object is a collection of attributes and actions. For example, a number has a value (an attribute) and can be used in arithmetic expressions with other numbers (actions).\n",
    "\n",
    "Note that a variable does not have a fixed type, but objects do.\n",
    "\n",
    "### Creation\n",
    "\n",
    "A variable is created the first time it has a value assigned to it.\n",
    "\n",
    "For example, the following cell defines a variable **`a`** that references the object `5`. "
   ]
  },
  {
   "cell_type": "code",
   "execution_count": 4,
   "metadata": {},
   "outputs": [],
   "source": [
    "a = 5"
   ]
  },
  {
   "cell_type": "markdown",
   "metadata": {
    "tags": []
   },
   "source": [
    "### Naming rules\n",
    "\n",
    "There are some naming rules for variables.\n",
    "\n",
    "* Variable names can only contain alpha-numeric characters and underscores (a-z, A-Z, 0-9, and _)\n",
    "* Variable names cannot start with a number.\n",
    "* Variable names are case-sensitive (age, Age and AGE are three different variables)\n",
    "\n",
    "For example, `2a = 5` is invalid syntax, but `a2 = 5` is valid syntax.\n",
    "\n",
    "### Multiple assignment\n",
    "\n",
    "Multiple variables can be assigned values in 1 step (or \"statement\"), as shown in the following example."
   ]
  },
  {
   "cell_type": "code",
   "execution_count": 5,
   "metadata": {},
   "outputs": [
    {
     "name": "stdout",
     "output_type": "stream",
     "text": [
      "1 2 3\n"
     ]
    }
   ],
   "source": [
    "a,b,c = 1,2,3\n",
    "print(a,b,c)"
   ]
  },
  {
   "cell_type": "markdown",
   "metadata": {
    "tags": []
   },
   "source": [
    "## Data Types\n",
    "\n",
    "There are many data types that objects can have in Python.\n",
    "\n",
    "In the variable declaration example above, the variable `a` was assigned the value `5`, which is an integer.\n",
    "\n",
    "There are built-in types and user-defined types in Python.\n",
    "\n",
    "We will only discuss built-in types in this section.\n",
    "\n",
    "### Built-in types\n",
    "\n",
    "Built-in types are part of Python itself.\n",
    "\n",
    "There are 2 collections of types, with both collections including built-in and user-defined types. These collections are normal types and containers, but instances of all types are Python objects.\n",
    "\n",
    "#### Normal Types\n",
    "\n",
    "Normal types are any types that do not primarily serve as containers of other objects. They can contain other objects and even containers, but containing objects is not their primary purpose.\n",
    "\n",
    "The types listed here are some of the most commonly used normal types.\n",
    "\n",
    ">##### Numbers\n",
    "\n",
    "There are 2 types of numbers in Python: integers, such as `5`, and floats, such as `1.5`.\n",
    "\n",
    "Integers have the type `int` and floats have the type `float`.\n",
    "\n",
    ">##### Strings\n",
    "\n",
    "Strings can be defined with single quotes (`''`), double quotes (`\"\"`), or as a multiline string with triple quotes (`''' '''` or `\"\"\" \"\"\"`). For example:"
   ]
  },
  {
   "cell_type": "code",
   "execution_count": 6,
   "metadata": {},
   "outputs": [
    {
     "name": "stdout",
     "output_type": "stream",
     "text": [
      "mystr: String\n",
      "Multiline string: \n",
      "First line\n",
      "Second line\n",
      "Multiline string without using line continuation characters: \n",
      "        \n",
      "First line\n",
      "Second line\n",
      "\n"
     ]
    }
   ],
   "source": [
    "mystr = \"String\"\n",
    "print(f\"mystr: {mystr}\")\n",
    "\n",
    "multiline_str = '''\\\n",
    "First line\n",
    "Second line\\\n",
    "'''\n",
    "# \\n is the \"new line\" character\n",
    "print(f\"Multiline string: \\n{multiline_str}\")\n",
    "# \\ at the end of a line is a line continuation character in Python.\n",
    "# If these were removed, every new line in the multiline string\n",
    "# will be part of the string itself. In this example, \n",
    "# the line continuation characters are removed, so the\n",
    "# string has a newline at the beginning and end.\n",
    "multiline_str_no_line_continuation = '''\n",
    "First line\n",
    "Second line\n",
    "'''\n",
    "print(\"Multiline string without using \"\n",
    "      f\"line continuation characters: \\n\\\n",
    "        {multiline_str_no_line_continuation}\")"
   ]
  },
  {
   "cell_type": "markdown",
   "metadata": {},
   "source": [
    "The strings that begin with `f` and contain expressions in curly brackets (`{}`) are called \"format strings\", or \"f-strings\". You can read more about them [here](https://docs.python.org/3/tutorial/inputoutput.html#formatted-string-literals).\n",
    "\n",
    "A character in a string can be accessed by its index. Multiple characters can be selected with a slice, which has the format `[low_index:high_index:stride]`, where `low_index` is the starting index value (default: `0`), `high_index` is the index value after the highest index value that can be included (default: 1 more than the number of elements - the elements being characters for strings), and `stride` is the number of positions to move for each element. For example:"
   ]
  },
  {
   "cell_type": "code",
   "execution_count": 7,
   "metadata": {},
   "outputs": [
    {
     "name": "stdout",
     "output_type": "stream",
     "text": [
      "First character in mystr: S\n",
      "First 3 characters in mystr: Str\n",
      "Characters in mystr with even indices ([0,2,4]): Srn\n",
      "Characters in mystr with odd indices ([1,3,5]): tig\n"
     ]
    }
   ],
   "source": [
    "print(f\"First character in mystr: {mystr[0]}\")\n",
    "print(f\"First 3 characters in mystr: {mystr[:3]}\")\n",
    "print(f\"Characters in mystr with even indices ([0,2,4]): {mystr[::2]}\")\n",
    "print(f\"Characters in mystr with odd indices ([1,3,5]): {mystr[1::2]}\")"
   ]
  },
  {
   "cell_type": "markdown",
   "metadata": {},
   "source": [
    "Strings can be combined, or \"concatenated\", by adding them with the `+` operator."
   ]
  },
  {
   "cell_type": "code",
   "execution_count": 8,
   "metadata": {},
   "outputs": [
    {
     "data": {
      "text/plain": [
       "'Hello, World'"
      ]
     },
     "execution_count": 8,
     "metadata": {},
     "output_type": "execute_result"
    }
   ],
   "source": [
    "substring1 = \"Hello, \"\n",
    "substring2 = \"World\"\n",
    "substring1 + substring2"
   ]
  },
  {
   "cell_type": "markdown",
   "metadata": {},
   "source": [
    "You can check if a string contains another string with the `in` operator:"
   ]
  },
  {
   "cell_type": "code",
   "execution_count": 9,
   "metadata": {},
   "outputs": [
    {
     "data": {
      "text/plain": [
       "True"
      ]
     },
     "execution_count": 9,
     "metadata": {},
     "output_type": "execute_result"
    }
   ],
   "source": [
    "\"Hello\" in \"Hello, World\""
   ]
  },
  {
   "cell_type": "markdown",
   "metadata": {},
   "source": [
    ">##### Booleans\n",
    "\n",
    "Booleans represent one of two values: `True` or `False`.\n",
    "\n",
    "Logical operators return Boolean values. For example:"
   ]
  },
  {
   "cell_type": "code",
   "execution_count": 10,
   "metadata": {},
   "outputs": [
    {
     "name": "stdout",
     "output_type": "stream",
     "text": [
      "10 > 9: True\n",
      "10 == 9: False\n",
      "10 < 9: False\n"
     ]
    }
   ],
   "source": [
    "print(f'10 > 9: {10 > 9}')\n",
    "print(f'10 == 9: {10 == 9}')\n",
    "print(f'10 < 9: {10 < 9}')"
   ]
  },
  {
   "cell_type": "markdown",
   "metadata": {},
   "source": [
    "#### Containers\n",
    "\n",
    "Container types are any types that primarily serve as containers of other objects.\n",
    "\n",
    "The objects that a container contains are called the container's elements.\n",
    "\n",
    "The types listed here are some of the most commonly used container types.\n",
    "\n",
    ">##### Lists\n",
    "\n",
    "Lists are ordered (not necessarily sorted) collections of objects. \n",
    "\n",
    "The elements do not need to have the same type. \n",
    "\n",
    "Lists can be created like this `[value1, value2, ...]`. For example:"
   ]
  },
  {
   "cell_type": "code",
   "execution_count": 11,
   "metadata": {},
   "outputs": [],
   "source": [
    "mylist = [1,2,3]"
   ]
  },
  {
   "cell_type": "markdown",
   "metadata": {},
   "source": [
    "Elements can be added to the list with the `append()` method and removed with the `remove()` method:"
   ]
  },
  {
   "cell_type": "code",
   "execution_count": 12,
   "metadata": {},
   "outputs": [
    {
     "name": "stdout",
     "output_type": "stream",
     "text": [
      "List after append: [1, 2, 3, 4]\n",
      "List after remove: [1, 2, 3]\n"
     ]
    }
   ],
   "source": [
    "mylist.append(4)\n",
    "print(\"List after append:\", mylist)\n",
    "mylist.remove(4)\n",
    "print(\"List after remove:\", mylist)"
   ]
  },
  {
   "cell_type": "markdown",
   "metadata": {},
   "source": [
    "Elements can be accessed and changed by their position in the list, with the first element having the index `0`."
   ]
  },
  {
   "cell_type": "code",
   "execution_count": 13,
   "metadata": {},
   "outputs": [
    {
     "name": "stdout",
     "output_type": "stream",
     "text": [
      "First element: 1\n",
      "First element after change: 5\n"
     ]
    }
   ],
   "source": [
    "print(\"First element:\", mylist[0])\n",
    "mylist2 = mylist.copy()\n",
    "mylist2[0] = 5\n",
    "print(\"First element after change:\", mylist2[0])"
   ]
  },
  {
   "cell_type": "markdown",
   "metadata": {},
   "source": [
    "You can also merge lists with the `extend()` or `+` operators."
   ]
  },
  {
   "cell_type": "code",
   "execution_count": 14,
   "metadata": {},
   "outputs": [
    {
     "data": {
      "text/plain": [
       "[1, 2, 3, 5, 2, 3]"
      ]
     },
     "execution_count": 14,
     "metadata": {},
     "output_type": "execute_result"
    }
   ],
   "source": [
    "mylist3 = mylist.copy()\n",
    "mylist3.extend(mylist2)\n",
    "mylist3"
   ]
  },
  {
   "cell_type": "code",
   "execution_count": 15,
   "metadata": {},
   "outputs": [
    {
     "data": {
      "text/plain": [
       "[1, 2, 3, 5, 2, 3]"
      ]
     },
     "execution_count": 15,
     "metadata": {},
     "output_type": "execute_result"
    }
   ],
   "source": [
    "mylist + mylist2 "
   ]
  },
  {
   "cell_type": "markdown",
   "metadata": {},
   "source": [
    ">##### Tuples\n",
    "\n",
    "Tuples are lists that cannot add, remove, or replace elements.\n",
    "\n",
    "Tuples are often used where lists are used, but using a tuple clarifies that its elements are constant.\n",
    "\n",
    "The elements do not need to have the same type.\n",
    "\n",
    "Tuples have the type `tuple` and can be created like this `(value1, value2, ...)`. To create a tuple with a single item, put a comma after the single element. For example:"
   ]
  },
  {
   "cell_type": "code",
   "execution_count": 16,
   "metadata": {},
   "outputs": [],
   "source": [
    "mytuple = (1,2,3)\n",
    "single_element_tuple = (1,)"
   ]
  },
  {
   "cell_type": "markdown",
   "metadata": {},
   "source": [
    ">##### Dictionaries\n",
    "\n",
    "Dictionaries map values (\"keys\") to other values (\"values\"). A single pair of a key and its value is called an item. They are frequently called maps in Python and other programming languages.\n",
    "\n",
    "Dictionaries have the type `dict` and can be created like this `{key1:value1, key2:value2, ...}`.\n",
    "\n",
    "For example, the number of occurrences of values in a list could be represented as a map of the values to the number of occurrences of those values. For the list `[1,1,2,2,2,3,3,4]`, this dictionary would be `{1:2, 2:3, 3:2, 4:1}`.\n",
    "\n",
    "Using indexing syntax, a dictionary value can be accessed or changed by its key and a dictionary item can be added and removed by its key (using the `del` keyword). For example:"
   ]
  },
  {
   "cell_type": "code",
   "execution_count": 17,
   "metadata": {},
   "outputs": [
    {
     "name": "stdout",
     "output_type": "stream",
     "text": [
      "Value for key 1: 2\n",
      "mydictionary after changing the value of key 1 to 5:\n",
      "{1: 5, 2: 3, 3: 2, 4: 1}\n",
      "mydictionary after adding item with key 5:\n",
      "{1: 5, 2: 3, 3: 2, 4: 1, 5: 0}\n",
      "mydictionary after removing item with key 5:\n",
      "{1: 5, 2: 3, 3: 2, 4: 1}\n"
     ]
    }
   ],
   "source": [
    "mydictionary = {1:2, 2:3, 3:2, 4:1}\n",
    "\n",
    "# Accessing values\n",
    "print(f'Value for key 1: {mydictionary[1]}')\n",
    "\n",
    "# Changing values\n",
    "mydictionary[1] = 5\n",
    "print('mydictionary after changing the value of key 1 to 5:\\n'\n",
    "      f'{mydictionary}')\n",
    "\n",
    "# Adding new item\n",
    "mydictionary[5] = 0\n",
    "print('mydictionary after adding item with key 5:\\n'\n",
    "      f'{mydictionary}')\n",
    "\n",
    "# Removing item\n",
    "del mydictionary[5]\n",
    "print('mydictionary after removing item with key 5:\\n'\n",
    "      f'{mydictionary}')"
   ]
  },
  {
   "cell_type": "markdown",
   "metadata": {
    "jp-MarkdownHeadingCollapsed": true,
    "tags": []
   },
   "source": [
    ">##### Sets\n",
    "\n",
    "Sets are unordered collections of unique values.\n",
    "\n",
    "Sets have the type `set` and can be created like this `{value1, value2, ...}`.\n",
    "\n",
    "Elements can be added to a set with the `add()` method and removed with the `remove()` method. A logical union or intersection of elements from other containers (not just sets) can be obtained with the `union()` and `intersection()` methods."
   ]
  },
  {
   "cell_type": "code",
   "execution_count": 18,
   "metadata": {},
   "outputs": [
    {
     "name": "stdout",
     "output_type": "stream",
     "text": [
      "myset: {1}\n",
      "otherset: {1, 2, 3}\n",
      "\n",
      "myset after adding 2: {1, 2}\n",
      "myset after removing 2: {1}\n",
      "union of myset and otherset: {1, 2, 3}\n",
      "intersection of myset and otherset: {1}\n"
     ]
    }
   ],
   "source": [
    "myset = {1}\n",
    "otherset = {1,2,3}\n",
    "print(f'myset: {myset}')\n",
    "print(f'otherset: {otherset}\\n')\n",
    "\n",
    "# Adding new element\n",
    "myset.add(2)\n",
    "print(f'myset after adding 2: {myset}')\n",
    "\n",
    "# Removing element\n",
    "myset.remove(2)\n",
    "print(f'myset after removing 2: {myset}')\n",
    "\n",
    "# Union and Intersection\n",
    "print(f'union of myset and otherset: {myset.union(otherset)}')\n",
    "print(f'intersection of myset and otherset: {myset.intersection(otherset)}')"
   ]
  },
  {
   "cell_type": "markdown",
   "metadata": {},
   "source": [
    "### Type checking\n",
    "\n",
    "The type of an object can be determined with the built-in `type` function."
   ]
  },
  {
   "cell_type": "code",
   "execution_count": 19,
   "metadata": {},
   "outputs": [
    {
     "name": "stdout",
     "output_type": "stream",
     "text": [
      "type of 1: <class 'int'>\n",
      "type of \"str\" <class 'str'>\n"
     ]
    }
   ],
   "source": [
    "print(f'type of 1: {type(1)}')\n",
    "print(f'type of \"str\" {type(\"str\")}')"
   ]
  },
  {
   "cell_type": "markdown",
   "metadata": {},
   "source": [
    "### Type casting\n",
    "\n",
    "An object `obj` can be type cast to another type `mytype` with syntax like `mytype(obj)`. \n",
    "\n",
    "For example:"
   ]
  },
  {
   "cell_type": "code",
   "execution_count": 20,
   "metadata": {},
   "outputs": [
    {
     "name": "stdout",
     "output_type": "stream",
     "text": [
      "int cast of 1.5 (float truncates): 1\n",
      "float cast of \"1.5\" multiplied by 2: 3.0\n"
     ]
    }
   ],
   "source": [
    "print(f'int cast of 1.5 (float truncates): {int(1.5)}')\n",
    "print(f'float cast of \"1.5\" multiplied by 2: {float(\"1.5\") * 2}')"
   ]
  },
  {
   "cell_type": "markdown",
   "metadata": {},
   "source": [
    "## Operators\n",
    "\n",
    "Operators are special combinations of characters used to perform operations on variables and values.\n",
    "\n",
    "### Types of Operators\n",
    "\n",
    "Some operators only operate on 1 value. These are called unary operators.\n",
    "\n",
    "Other operators operate on 2 values. These are called binary operators.\n",
    "\n",
    "More generally, the number of values an operator or function needs is called its arity.\n",
    "\n",
    "### Overview of Operators\n",
    "\n",
    "There are several types of operators: arithmetic, assignment, comparison, logical, identity, membership, and bitwise. These typs of operators are described below.\n",
    "\n",
    "* **Arithmetic**: These operators perform arithmetic operations.\n",
    "* **Assignment**: These operators assign values to variables. Most of them first apply another operator before assigning the result.\n",
    "* **Comparison**: These operators compare 2 values - returning Boolean results.\n",
    "* **Logical**: These operators combine Boolean values (such as outputs of comparisons).\n",
    "* **Identity**: These operators determine if object references are the same (not just that objects have the same value).\n",
    "* **Membership**: These operators determine if a sequence is present in an object.\n",
    "* **Bitwise**: These operators operate on binary numbers.\n",
    "\n",
    "The most commonly used operators are the arithmetic, assignment, comparison, and logical operators.\n",
    "\n",
    "Arithmetic operators include +, -, \\*, /, %, \\*\\*, and //.\n",
    "\n",
    "Assignment operators include the most commonly used binary operator - the assignment operator: `=`. Other assignment operators first apply an arithmetic or bitwise operator to the value on the right and then assign the result.\n",
    "\n",
    "Comparison operators include ==, !=, >, <, >=, <=.\n",
    "\n",
    "Logical operators include **and**, **or**, and **not**.\n",
    "\n",
    "Identity operators include **is** and **is not**.\n",
    "\n",
    "Membership operators include **in** and **not in**.\n",
    "\n",
    "Bitwise operators include &, |, &, ~, <<, and >>.\n",
    "\n",
    "You can find tables of operators, their descriptions, and examples on [this webpage](https://www.w3schools.com/python/python_operators.asp).\n",
    "\n",
    "### Special Operators\n",
    "\n",
    "Python also has unpacking operators, which are used to extract elements of containers. The dictionary unpacking operator is `**`. In ODC code, this is often used to include some common parameters in multiple invocations of a function in a simple way. For example:"
   ]
  },
  {
   "cell_type": "code",
   "execution_count": 21,
   "metadata": {},
   "outputs": [
    {
     "name": "stdout",
     "output_type": "stream",
     "text": [
      "myfunc(1, **common_params): (1, 2, 3)\n",
      "myfunc(10, **common_params): (10, 2, 3)\n"
     ]
    }
   ],
   "source": [
    "def myfunc(a,b,c):\n",
    "    return a,b,c\n",
    "\n",
    "common_params = {'b':2, 'c':3}\n",
    "\n",
    "print(f'myfunc(1, **common_params): {myfunc(1, **common_params)}')\n",
    "print(f'myfunc(10, **common_params): {myfunc(10, **common_params)}')"
   ]
  },
  {
   "cell_type": "markdown",
   "metadata": {},
   "source": [
    "\n",
    "\n"
   ]
  },
  {
   "cell_type": "markdown",
   "metadata": {
    "tags": []
   },
   "source": [
    "## Control Flow\n",
    "\n",
    "Control flow is the order in which statements such as `a = 5` are executed.\n",
    "\n",
    "A control flow statement is a statement that determines which of two or more paths of execution (sequence of statements) to follow.\n",
    "\n",
    "### Branching\n",
    "\n",
    "The most basic control flow structure is the `if` statement.\n",
    "\n",
    "The code in an `if` statment only executes if its condition is `True`. For example:"
   ]
  },
  {
   "cell_type": "code",
   "execution_count": 22,
   "metadata": {},
   "outputs": [
    {
     "name": "stdout",
     "output_type": "stream",
     "text": [
      "a, b: (5, 3)\n",
      "a is greater than b\n"
     ]
    }
   ],
   "source": [
    "a = 5\n",
    "b = 3\n",
    "print(f'a, b: {a, b}')\n",
    "if a < b:\n",
    "    print('a is less than b')\n",
    "if a == b:\n",
    "    print('a equals b')\n",
    "if a > b:\n",
    "    print('a is greater than b')"
   ]
  },
  {
   "cell_type": "markdown",
   "metadata": {},
   "source": [
    "The `if` statment also has optional `elif` and `else` blocks.\n",
    "\n",
    "An `else` block runs only if the preceding `if` or `elif` blocks did not run. \n",
    "\n",
    "`elif` stands for \"else, if\". An `elif` block runs only if the preceding `if` or `elif` blocks did not run **and** the condition is `True`.\n",
    "\n",
    "Using `elif` and `else`, the preceding example can also be written as follows:"
   ]
  },
  {
   "cell_type": "code",
   "execution_count": 23,
   "metadata": {},
   "outputs": [
    {
     "name": "stdout",
     "output_type": "stream",
     "text": [
      "a, b: (5, 3)\n",
      "a is greater than b\n"
     ]
    }
   ],
   "source": [
    "a = 5\n",
    "b = 3\n",
    "print(f'a, b: {a, b}')\n",
    "if a < b:\n",
    "    print('a is less than b')\n",
    "elif a == b:\n",
    "    print('a equals b')\n",
    "else:\n",
    "    print('a is greater than b')"
   ]
  },
  {
   "cell_type": "markdown",
   "metadata": {},
   "source": [
    "### Looping\n",
    "\n",
    "A loop is a block of code that repeats until a condition is met.\n",
    "\n",
    "#### While loop\n",
    "\n",
    "A `while` loop only repeats as long as its conditional expression is `True`. The following example adds `1` to the variable `a` until it has the value `5`:"
   ]
  },
  {
   "cell_type": "code",
   "execution_count": 24,
   "metadata": {},
   "outputs": [
    {
     "name": "stdout",
     "output_type": "stream",
     "text": [
      "value after while loop: 5\n"
     ]
    }
   ],
   "source": [
    "a = 1\n",
    "while (a < 5):\n",
    "    a += 1\n",
    "print(\"value after while loop:\", a)"
   ]
  },
  {
   "cell_type": "markdown",
   "metadata": {},
   "source": [
    "#### For loop\n",
    "\n",
    "A `for` loop iterates over a sequence, such as a list, tuple, dictionary, set, or string. The following example prints each element of a list on its own line:"
   ]
  },
  {
   "cell_type": "code",
   "execution_count": 25,
   "metadata": {},
   "outputs": [
    {
     "name": "stdout",
     "output_type": "stream",
     "text": [
      "1\n",
      "2\n",
      "3\n"
     ]
    }
   ],
   "source": [
    "mylist = [1,2,3]\n",
    "for x in mylist:\n",
    "    print(x)"
   ]
  },
  {
   "cell_type": "markdown",
   "metadata": {},
   "source": [
    "A `for` loop iterates over the elements of lists in order, but the order of iteration for sets is dependent on their values - not their order.\n",
    "\n",
    "For dictionaries, `for` loops iterate over keys by default, but instead of using the dictionary `mydictionary` as the object to iterate, use `mydictionary.values()` to iterate over the values, or `mydictionary.items()` to iterate over both. For example:"
   ]
  },
  {
   "cell_type": "code",
   "execution_count": 26,
   "metadata": {},
   "outputs": [
    {
     "name": "stdout",
     "output_type": "stream",
     "text": [
      "Keys:\n",
      "1\n",
      "3\n",
      "Values:\n",
      "2\n",
      "4\n",
      "Key-Value Pairs:\n",
      "1 2\n",
      "3 4\n"
     ]
    }
   ],
   "source": [
    "mydictionary = {1:2, 3:4}\n",
    "print(\"Keys:\")\n",
    "for key in mydictionary:\n",
    "    print(key)\n",
    "print(\"Values:\")\n",
    "for value in mydictionary.values():\n",
    "    print(value)\n",
    "print(\"Key-Value Pairs:\")\n",
    "for key, value in mydictionary.items():\n",
    "    print(key, value)"
   ]
  },
  {
   "cell_type": "markdown",
   "metadata": {
    "tags": []
   },
   "source": [
    "#### Comprehensions\n",
    "\n",
    "Comprehensions in Python are a convenient way to construct new sequences (such as lists, sets, dictionaries) using other sequences.\n",
    "\n",
    "Comprenehsions use `for` loop syntax inside the data types enclosing characters (`[]` for lists and `{}` for sets and dictionaries). The format on comprehension expressions is `output for input in object`. For example:"
   ]
  },
  {
   "cell_type": "code",
   "execution_count": 27,
   "metadata": {},
   "outputs": [
    {
     "name": "stdout",
     "output_type": "stream",
     "text": [
      "newlist: [2, 4]\n",
      "newset: {2, 4}\n",
      "newset: {2, 4}\n"
     ]
    }
   ],
   "source": [
    "mylist = [1,2]\n",
    "newlist = [x*2 for x in mylist]\n",
    "print(f'newlist: {newlist}')\n",
    "\n",
    "myset = {1,2}\n",
    "newset = {x*2 for x in myset}\n",
    "print(f'newset: {newset}')\n",
    "\n",
    "mydictionary = {1:2}\n",
    "newdictionary = {key*2:value*2 for key, value in mydictionary.items()}\n",
    "print(f'newset: {newset}')"
   ]
  },
  {
   "cell_type": "markdown",
   "metadata": {},
   "source": [
    "## Commonly Used Functions\n",
    "\n",
    "This is a list of functions that are used the most often.\n",
    "\n",
    "### Sorting\n",
    "\n",
    "To sort sequences, use the `sorted()` function. For example:"
   ]
  },
  {
   "cell_type": "code",
   "execution_count": 28,
   "metadata": {},
   "outputs": [
    {
     "data": {
      "text/plain": [
       "[1, 2, 3]"
      ]
     },
     "execution_count": 28,
     "metadata": {},
     "output_type": "execute_result"
    }
   ],
   "source": [
    "mylist = [3,2,1]\n",
    "sorted(mylist)"
   ]
  },
  {
   "cell_type": "code",
   "execution_count": 29,
   "metadata": {},
   "outputs": [
    {
     "data": {
      "text/plain": [
       "{1}"
      ]
     },
     "execution_count": 29,
     "metadata": {},
     "output_type": "execute_result"
    }
   ],
   "source": [
    "{1}.copy()"
   ]
  },
  {
   "cell_type": "markdown",
   "metadata": {
    "tags": []
   },
   "source": [
    "### Copy\n",
    "\n",
    "We often want to copy objects to change only a few values in them without changing the original objects.\n",
    "\n",
    "Many object types - such as lists, sets, and dictionaries - have `copy()` methods. But it is better to use the `deepcopy()` function from the built-in `copy` library.\n",
    "\n",
    "In the following example, `list2 = list1` makes the `list2` variable reference the same list as the `list1` variable, so changing the value of element `0` to the value `0` applies to both variables."
   ]
  },
  {
   "cell_type": "code",
   "execution_count": 30,
   "metadata": {},
   "outputs": [
    {
     "name": "stdout",
     "output_type": "stream",
     "text": [
      "Without copying (variables reference same list)\n",
      "list1: [0, 2, 3]\n",
      "list2: [0, 2, 3]\n"
     ]
    }
   ],
   "source": [
    "# Without copying\n",
    "list1 = [1,2,3]\n",
    "list2 = list1\n",
    "list2[0] = 0\n",
    "print('Without copying (variables reference same list)')\n",
    "print(f'list1: {list1}')\n",
    "print(f'list2: {list2}')"
   ]
  },
  {
   "cell_type": "markdown",
   "metadata": {
    "tags": []
   },
   "source": [
    "In contrast, using `copy.deepcopy()` results in only `list2` being changed."
   ]
  },
  {
   "cell_type": "code",
   "execution_count": 31,
   "metadata": {},
   "outputs": [
    {
     "name": "stdout",
     "output_type": "stream",
     "text": [
      "With copying (variables reference different lists)\n",
      "list1: [1, 2, 3]\n",
      "list2: [0, 2, 3]\n"
     ]
    }
   ],
   "source": [
    "import copy\n",
    "list1 = [1,2,3]\n",
    "list2 = copy.deepcopy(list1)\n",
    "list2[0] = 0\n",
    "print('With copying (variables reference different lists)')\n",
    "print(f'list1: {list1}')\n",
    "print(f'list2: {list2}')"
   ]
  },
  {
   "cell_type": "markdown",
   "metadata": {},
   "source": [
    "### Length\n",
    "\n",
    "The number of elements in a container or the size of an object like a string (the number of characters) can be determined with the `len()` function. For example:"
   ]
  },
  {
   "cell_type": "code",
   "execution_count": 32,
   "metadata": {},
   "outputs": [
    {
     "name": "stdout",
     "output_type": "stream",
     "text": [
      "Number of elements in [1, 2, 3]: 3\n",
      "Number of elements in \"String\": 6\n"
     ]
    }
   ],
   "source": [
    "mylist = [1,2,3]\n",
    "print(f'Number of elements in {mylist}: {len(mylist)}')\n",
    "\n",
    "mystr = \"String\"\n",
    "print(f'Number of elements in \"{mystr}\": {len(mystr)}')"
   ]
  },
  {
   "cell_type": "markdown",
   "metadata": {},
   "source": [
    "### Range\n",
    "\n",
    "Sometimes we want values within a range. The `range()` function determines what values are within a specified range at some stride (as we did in slicing).\n",
    "\n",
    "For example, this is the even values between 0 (inclusive) and 10 (exclusive):"
   ]
  },
  {
   "cell_type": "code",
   "execution_count": 33,
   "metadata": {},
   "outputs": [
    {
     "name": "stdout",
     "output_type": "stream",
     "text": [
      "all values between 0 (inclusive) and 10 (exclusive): [0, 1, 2, 3, 4, 5, 6, 7, 8, 9]\n",
      "even values between 0 (inclusive) and 10 (exclusive): [0, 2, 4, 6, 8]\n",
      "odd values between 0 (inclusive) and 10 (exclusive): [1, 3, 5, 7, 9]\n"
     ]
    }
   ],
   "source": [
    "print(f'all values between 0 (inclusive) and 10 (exclusive): {list(range(0,10))}')\n",
    "print(f'even values between 0 (inclusive) and 10 (exclusive): {list(range(0,10,2))}')\n",
    "print(f'odd values between 0 (inclusive) and 10 (exclusive): {list(range(1,10,2))}')"
   ]
  },
  {
   "cell_type": "markdown",
   "metadata": {
    "tags": []
   },
   "source": [
    "## Importing Packages\n",
    "\n",
    "Any imported resources, such as functions, are usually imported at the beginning of a notebook. We import resources with the `import` keyword. Below is an example of such a code cell."
   ]
  },
  {
   "cell_type": "code",
   "execution_count": 34,
   "metadata": {},
   "outputs": [],
   "source": [
    "# Python built-in packages #\n",
    "import sys\n",
    "import os\n",
    "\n",
    "# External packages #\n",
    "%matplotlib inline\n",
    "import matplotlib.pyplot as plt\n",
    "import numpy as np # Numerical processing\n",
    "import xarray as xr # Coordinate indexed arrays\n",
    "import pandas as pd # Tabular data structures for data analysis\n",
    "import datacube # Facilitates loading data from the Data Cube\n",
    "\n",
    "# Utilities #\n",
    "from utils.data_cube_utilities.dc_display_map import display_map"
   ]
  },
  {
   "cell_type": "markdown",
   "metadata": {},
   "source": [
    "Any imported resources, such as functions, are usually imported at the beginning of a notebook.\n",
    "\n",
    "There are typically 3 kinds of package imports:\n",
    "* built-in\n",
    "* external\n",
    "* local\n",
    "\n",
    "**Built-in** packages come with Python, such as `sys` and `os`, which allow access to the environment outside the Python interpreter such as environment variables (`os.environ`) and the system path (`sys.path`). In this case, we are appending the path of the root directory containing notebooks (defined by the `NOTEBOOK_ROOT` environment variable) to the system path because this path also contains a directory called `utils`, which contains Python files from which we import functions. This path is added to the system path for the Python utility files in `utils` to be found.\n",
    "\n",
    "**External** packages are obtained from package repositories. Some very common packages to import include `matplotlib`, `numpy`, `xarray`, and `pandas`, which we will discuss in future sections. For now, just know that they are common to import.\n",
    "\n",
    "**Local** packages are stored on the filesystem as Python files (`.py`). These are often called \"utilities\". In this example, the `display_map()` function is imported from the `/notebooks/utils/data_cube_utilities/dc_display_map.py` file."
   ]
  }
 ],
 "metadata": {
  "kernelspec": {
   "display_name": "Python 3 (ipykernel)",
   "language": "python",
   "name": "python3"
  },
  "language_info": {
   "codemirror_mode": {
    "name": "ipython",
    "version": 3
   },
   "file_extension": ".py",
   "mimetype": "text/x-python",
   "name": "python",
   "nbconvert_exporter": "python",
   "pygments_lexer": "ipython3",
   "version": "3.8.10"
  },
  "toc-autonumbering": false,
  "toc-showcode": false,
  "toc-showmarkdowntxt": false,
  "toc-showtags": true,
  "widgets": {
   "application/vnd.jupyter.widget-state+json": {
    "state": {},
    "version_major": 2,
    "version_minor": 0
   }
  }
 },
 "nbformat": 4,
 "nbformat_minor": 4
}
